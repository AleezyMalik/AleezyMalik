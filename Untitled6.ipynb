{
  "nbformat": 4,
  "nbformat_minor": 0,
  "metadata": {
    "colab": {
      "provenance": [],
      "authorship_tag": "ABX9TyOQ6Rgm9duhaBmKbbFIH+6x",
      "include_colab_link": true
    },
    "kernelspec": {
      "name": "python3",
      "display_name": "Python 3"
    },
    "language_info": {
      "name": "python"
    }
  },
  "cells": [
    {
      "cell_type": "markdown",
      "metadata": {
        "id": "view-in-github",
        "colab_type": "text"
      },
      "source": [
        "<a href=\"https://colab.research.google.com/github/AleezyMalik/AleezyMalik/blob/main/Untitled6.ipynb\" target=\"_parent\"><img src=\"https://colab.research.google.com/assets/colab-badge.svg\" alt=\"Open In Colab\"/></a>"
      ]
    },
    {
      "cell_type": "code",
      "execution_count": 3,
      "metadata": {
        "id": "997vs76KQWyD",
        "colab": {
          "base_uri": "https://localhost:8080/"
        },
        "outputId": "59cd7a00-1df6-4a2d-9136-d25cca8c3ce6"
      },
      "outputs": [
        {
          "output_type": "stream",
          "name": "stdout",
          "text": [
            "enter the message\n",
            "the\n",
            "enter the key\n",
            "key\n",
            "\n",
            "\n",
            "encrypted message is AOL\n"
          ]
        }
      ],
      "source": [
        "plaintext = input(\"enter the message\\n\")\n",
        "key = input(\"enter the key\\n\")\n",
        "cipher = \"\"\n",
        "for i in range(len(plaintext)):\n",
        "    m = ord(key[i]) - ord('A') + 1\n",
        "    cipher += chr((ord(plaintext[i]) - ord('A') + 1) % 26 + ord('A'))\n",
        "print(\"\\n\\nencrypted message is\", cipher)"
      ]
    }
  ]
}