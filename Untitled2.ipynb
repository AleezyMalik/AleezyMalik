{
  "nbformat": 4,
  "nbformat_minor": 0,
  "metadata": {
    "colab": {
      "provenance": [],
      "authorship_tag": "ABX9TyOgKwmY5Z80zbogtz6Fah8V",
      "include_colab_link": true
    },
    "kernelspec": {
      "name": "python3",
      "display_name": "Python 3"
    },
    "language_info": {
      "name": "python"
    }
  },
  "cells": [
    {
      "cell_type": "markdown",
      "metadata": {
        "id": "view-in-github",
        "colab_type": "text"
      },
      "source": [
        "<a href=\"https://colab.research.google.com/github/AleezyMalik/AleezyMalik/blob/main/Untitled2.ipynb\" target=\"_parent\"><img src=\"https://colab.research.google.com/assets/colab-badge.svg\" alt=\"Open In Colab\"/></a>"
      ]
    },
    {
      "cell_type": "code",
      "execution_count": 5,
      "metadata": {
        "colab": {
          "base_uri": "https://localhost:8080/",
          "height": 1000
        },
        "id": "_CPAdMKRwWc6",
        "outputId": "ee1962ea-018b-4b81-f4f0-747e6fb0cabb"
      },
      "outputs": [
        {
          "output_type": "stream",
          "name": "stdout",
          "text": [
            "      brand processor_brand processor_name processor_gnrtn ram_gb ram_type  \\\n",
            "0      ASUS           Intel        Core i3            10th   4 GB     DDR4   \n",
            "1    Lenovo           Intel        Core i3            10th   4 GB     DDR4   \n",
            "2    Lenovo           Intel        Core i3            10th   4 GB     DDR4   \n",
            "3      ASUS           Intel        Core i5            10th   8 GB     DDR4   \n",
            "4      ASUS           Intel   Celeron Dual   Not Available   4 GB     DDR4   \n",
            "..      ...             ...            ...             ...    ...      ...   \n",
            "818    ASUS             AMD        Ryzen 9   Not Available   4 GB     DDR4   \n",
            "819    ASUS             AMD        Ryzen 9   Not Available   4 GB     DDR4   \n",
            "820    ASUS             AMD        Ryzen 9   Not Available   4 GB     DDR4   \n",
            "821    ASUS             AMD        Ryzen 9   Not Available   4 GB     DDR4   \n",
            "822  Lenovo             AMD        Ryzen 5            10th   8 GB     DDR4   \n",
            "\n",
            "         ssd      hdd       os  os_bit graphic_card_gb      weight  \\\n",
            "0       0 GB  1024 GB  Windows  64-bit            0 GB      Casual   \n",
            "1       0 GB  1024 GB  Windows  64-bit            0 GB      Casual   \n",
            "2       0 GB  1024 GB  Windows  64-bit            0 GB      Casual   \n",
            "3     512 GB     0 GB  Windows  32-bit            2 GB      Casual   \n",
            "4       0 GB   512 GB  Windows  64-bit            0 GB      Casual   \n",
            "..       ...      ...      ...     ...             ...         ...   \n",
            "818  1024 GB     0 GB  Windows  64-bit            0 GB      Casual   \n",
            "819  1024 GB     0 GB  Windows  64-bit            0 GB      Casual   \n",
            "820  1024 GB     0 GB  Windows  64-bit            4 GB      Casual   \n",
            "821  1024 GB     0 GB  Windows  64-bit            4 GB      Casual   \n",
            "822   512 GB     0 GB      DOS  64-bit            0 GB  ThinNlight   \n",
            "\n",
            "        warranty Touchscreen msoffice   Price   rating  Number of Ratings  \\\n",
            "0    No warranty          No       No   34649  2 stars                  3   \n",
            "1    No warranty          No       No   38999  3 stars                 65   \n",
            "2    No warranty          No       No   39999  3 stars                  8   \n",
            "3    No warranty          No       No   69990  3 stars                  0   \n",
            "4    No warranty          No       No   26990  3 stars                  0   \n",
            "..           ...         ...      ...     ...      ...                ...   \n",
            "818       1 year          No       No  135990  3 stars                  0   \n",
            "819       1 year          No       No  144990  3 stars                  0   \n",
            "820       1 year          No       No  149990  3 stars                  0   \n",
            "821       1 year          No       No  142990  3 stars                  0   \n",
            "822  No warranty          No       No   57490  4 stars                 18   \n",
            "\n",
            "     Number of Reviews  \n",
            "0                    0  \n",
            "1                    5  \n",
            "2                    1  \n",
            "3                    0  \n",
            "4                    0  \n",
            "..                 ...  \n",
            "818                  0  \n",
            "819                  0  \n",
            "820                  0  \n",
            "821                  0  \n",
            "822                  4  \n",
            "\n",
            "[823 rows x 19 columns]\n"
          ]
        },
        {
          "output_type": "execute_result",
          "data": {
            "text/plain": [
              "<matplotlib.collections.PathCollection at 0x7f66996cada0>"
            ]
          },
          "metadata": {},
          "execution_count": 5
        },
        {
          "output_type": "display_data",
          "data": {
            "text/plain": [
              "<Figure size 640x480 with 1 Axes>"
            ],
            "image/png": "[encoded data removed]"
          },
          "metadata": {}
        }
      ],
      "source": [
        "import pandas as pd\n",
        "import numpy as np\n",
        "from sklearn import linear_model\n",
        "import matplotlib.pyplot as plt\n",
        "df=pd.read_csv('laptopPrice.csv')\n",
        "print(df)\n",
        "%matplotlib inline\n",
        "plt.xlabel('os_bit')\n",
        "plt.ylabel('Price')\n",
        "plt.scatter(df.os_bit,df.Price,color='red',marker='+')"
      ]
    }
  ]
}